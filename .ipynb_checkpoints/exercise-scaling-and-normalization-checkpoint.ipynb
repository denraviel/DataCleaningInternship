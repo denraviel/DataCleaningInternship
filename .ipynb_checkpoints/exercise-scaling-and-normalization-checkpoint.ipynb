{
 "cells": [
  {
   "cell_type": "markdown",
   "metadata": {},
   "source": [
    "**This notebook is an exercise in the [Data Cleaning](https://www.kaggle.com/learn/data-cleaning) course.  You can reference the tutorial at [this link](https://www.kaggle.com/alexisbcook/scaling-and-normalization).**\n",
    "\n",
    "---\n"
   ]
  },
  {
   "cell_type": "markdown",
   "metadata": {},
   "source": [
    "In this exercise, you'll apply what you learned in the **Scaling and normalization** tutorial.\n",
    "\n",
    "# Setup\n",
    "\n",
    "The questions below will give you feedback on your work. Run the following cell to set up the feedback system."
   ]
  },
  {
   "cell_type": "code",
   "execution_count": 1,
   "metadata": {
    "execution": {
     "iopub.execute_input": "2022-03-29T14:27:07.643944Z",
     "iopub.status.busy": "2022-03-29T14:27:07.643341Z",
     "iopub.status.idle": "2022-03-29T14:27:10.993500Z",
     "shell.execute_reply": "2022-03-29T14:27:10.992618Z",
     "shell.execute_reply.started": "2022-03-29T14:27:07.643837Z"
    }
   },
   "outputs": [],
   "source": [
    "from learntools.core import binder\n",
    "binder.bind(globals())\n",
    "from learntools.data_cleaning.ex2 import *\n",
    "print(\"Setup Complete\")"
   ]
  },
  {
   "cell_type": "markdown",
   "metadata": {},
   "source": [
    "# Get our environment set up\n",
    "\n",
    "To practice scaling and normalization, we're going to use a [dataset of Kickstarter campaigns](https://www.kaggle.com/kemical/kickstarter-projects). (Kickstarter is a website where people can ask people to invest in various projects and concept products.)\n",
    "\n",
    "The next code cell loads in the libraries and dataset we'll be using. "
   ]
  },
  {
   "cell_type": "code",
   "execution_count": 1,
   "metadata": {
    "execution": {
     "iopub.execute_input": "2022-03-29T14:27:18.249276Z",
     "iopub.status.busy": "2022-03-29T14:27:18.248966Z",
     "iopub.status.idle": "2022-03-29T14:27:19.765624Z",
     "shell.execute_reply": "2022-03-29T14:27:19.764798Z",
     "shell.execute_reply.started": "2022-03-29T14:27:18.249245Z"
    }
   },
   "outputs": [
    {
     "ename": "ModuleNotFoundError",
     "evalue": "No module named 'mlxtend'",
     "output_type": "error",
     "traceback": [
      "\u001b[1;31m---------------------------------------------------------------------------\u001b[0m",
      "\u001b[1;31mModuleNotFoundError\u001b[0m                       Traceback (most recent call last)",
      "\u001b[1;32m~\\AppData\\Local\\Temp/ipykernel_13012/1813903273.py\u001b[0m in \u001b[0;36m<module>\u001b[1;34m\u001b[0m\n\u001b[0;32m      7\u001b[0m \u001b[1;33m\u001b[0m\u001b[0m\n\u001b[0;32m      8\u001b[0m \u001b[1;31m# for min_max scaling\u001b[0m\u001b[1;33m\u001b[0m\u001b[1;33m\u001b[0m\u001b[1;33m\u001b[0m\u001b[0m\n\u001b[1;32m----> 9\u001b[1;33m \u001b[1;32mfrom\u001b[0m \u001b[0mmlxtend\u001b[0m\u001b[1;33m.\u001b[0m\u001b[0mpreprocessing\u001b[0m \u001b[1;32mimport\u001b[0m \u001b[0mminmax_scaling\u001b[0m\u001b[1;33m\u001b[0m\u001b[1;33m\u001b[0m\u001b[0m\n\u001b[0m\u001b[0;32m     10\u001b[0m \u001b[1;33m\u001b[0m\u001b[0m\n\u001b[0;32m     11\u001b[0m \u001b[1;31m# plotting modules\u001b[0m\u001b[1;33m\u001b[0m\u001b[1;33m\u001b[0m\u001b[1;33m\u001b[0m\u001b[0m\n",
      "\u001b[1;31mModuleNotFoundError\u001b[0m: No module named 'mlxtend'"
     ]
    }
   ],
   "source": [
    "# modules we'll use\n",
    "import pandas as pd\n",
    "import numpy as np\n",
    "\n",
    "# for Box-Cox Transformation\n",
    "from scipy import stats\n",
    "\n",
    "# for min_max scaling\n",
    "from mlxtend.preprocessing import minmax_scaling\n",
    "\n",
    "# plotting modules\n",
    "import seaborn as sns\n",
    "import matplotlib.pyplot as plt\n",
    "\n",
    "# read in all our data\n",
    "kickstarters_2017 = pd.read_csv(\"../input/kickstarter-projects/ks-projects-201801.csv\")\n",
    "\n",
    "# set seed for reproducibility\n",
    "np.random.seed(0)"
   ]
  },
  {
   "cell_type": "markdown",
   "metadata": {},
   "source": [
    "Let's start by scaling the goals of each campaign, which is how much money they were asking for.  After scaling, all values lie between 0 and 1."
   ]
  },
  {
   "cell_type": "code",
   "execution_count": 4,
   "metadata": {
    "execution": {
     "iopub.execute_input": "2022-03-29T14:27:19.767147Z",
     "iopub.status.busy": "2022-03-29T14:27:19.766930Z",
     "iopub.status.idle": "2022-03-29T14:27:19.802228Z",
     "shell.execute_reply": "2022-03-29T14:27:19.801540Z",
     "shell.execute_reply.started": "2022-03-29T14:27:19.767121Z"
    }
   },
   "outputs": [],
   "source": [
    "# select the usd_goal_real column\n",
    "original_data = pd.DataFrame(kickstarters_2017.usd_goal_real)\n",
    "\n",
    "# scale the goals from 0 to 1\n",
    "scaled_data = minmax_scaling(original_data, columns=['usd_goal_real'])\n",
    "\n",
    "print('Original data\\nPreview:\\n', original_data.head())\n",
    "print('Minimum value:', float(original_data.min()),\n",
    "      '\\nMaximum value:', float(original_data.max()))\n",
    "print('_'*30)\n",
    "\n",
    "print('\\nScaled data\\nPreview:\\n', scaled_data.head())\n",
    "print('Minimum value:', float(scaled_data.min()),\n",
    "      '\\nMaximum value:', float(scaled_data.max()))"
   ]
  },
  {
   "cell_type": "markdown",
   "metadata": {},
   "source": [
    "# 1) Practice scaling\n",
    "\n",
    "We just scaled the \"usd_goal_real\" column. What about the \"goal\" column?\n",
    "\n",
    "Begin by running the code cell below to create a DataFrame `original_goal_data` containing the \"goal\" column."
   ]
  },
  {
   "cell_type": "code",
   "execution_count": 6,
   "metadata": {
    "execution": {
     "iopub.execute_input": "2022-03-29T14:28:24.013419Z",
     "iopub.status.busy": "2022-03-29T14:28:24.013082Z",
     "iopub.status.idle": "2022-03-29T14:28:24.018330Z",
     "shell.execute_reply": "2022-03-29T14:28:24.017529Z",
     "shell.execute_reply.started": "2022-03-29T14:28:24.013385Z"
    }
   },
   "outputs": [],
   "source": [
    "# select the usd_goal_real column\n",
    "original_goal_data = pd.DataFrame(kickstarters_2017.goal)\n"
   ]
  },
  {
   "cell_type": "markdown",
   "metadata": {},
   "source": [
    "Use `original_goal_data` to create a new DataFrame `scaled_goal_data` with values scaled between 0 and 1. You must use the `minmax_scaling()` function."
   ]
  },
  {
   "cell_type": "code",
   "execution_count": 8,
   "metadata": {
    "execution": {
     "iopub.execute_input": "2022-03-29T14:28:56.310062Z",
     "iopub.status.busy": "2022-03-29T14:28:56.309678Z",
     "iopub.status.idle": "2022-03-29T14:28:56.347089Z",
     "shell.execute_reply": "2022-03-29T14:28:56.346282Z",
     "shell.execute_reply.started": "2022-03-29T14:28:56.310036Z"
    }
   },
   "outputs": [],
   "source": [
    "# TODO: Your code here\n",
    "scaled_goal_data =minmax_scaling(original_goal_data, columns =['goal'])\n",
    "print('Original data\\nPreview:\\n', original_goal_data.head())\n",
    "print('Minimum value:', float(original_goal_data.min()),\n",
    "      '\\nMaximum value:', float(original_goal_data.max()))\n",
    "print('_'*30)\n",
    "\n",
    "print('\\nScaled data\\nPreview:\\n', scaled_data.head())\n",
    "print('Minimum value:', float(scaled_data.min()),\n",
    "      '\\nMaximum value:', float(scaled_data.max()))\n",
    "# Check your answer\n",
    "q1.check()"
   ]
  },
  {
   "cell_type": "code",
   "execution_count": null,
   "metadata": {},
   "outputs": [],
   "source": [
    "# Lines below will give you a hint or solution code\n",
    "#q1.hint()\n",
    "#q1.solution()"
   ]
  },
  {
   "cell_type": "markdown",
   "metadata": {},
   "source": [
    "# 2) Practice normalization\n",
    "\n",
    "Now you'll practice normalization. We begin by normalizing the amount of money pledged to each campaign."
   ]
  },
  {
   "cell_type": "code",
   "execution_count": 9,
   "metadata": {
    "execution": {
     "iopub.execute_input": "2022-03-29T14:29:05.103438Z",
     "iopub.status.busy": "2022-03-29T14:29:05.102701Z",
     "iopub.status.idle": "2022-03-29T14:29:05.325321Z",
     "shell.execute_reply": "2022-03-29T14:29:05.324340Z",
     "shell.execute_reply.started": "2022-03-29T14:29:05.103393Z"
    }
   },
   "outputs": [],
   "source": [
    "# get the index of all positive pledges (Box-Cox only takes positive values)\n",
    "index_of_positive_pledges = kickstarters_2017.usd_pledged_real > 0\n",
    "\n",
    "# get only positive pledges (using their indexes)\n",
    "positive_pledges = kickstarters_2017.usd_pledged_real.loc[index_of_positive_pledges]\n",
    "\n",
    "# normalize the pledges (w/ Box-Cox)\n",
    "normalized_pledges = pd.Series(stats.boxcox(positive_pledges)[0], \n",
    "                               name='usd_pledged_real', index=positive_pledges.index)\n",
    "\n",
    "print('Original data\\nPreview:\\n', positive_pledges.head())\n",
    "print('Minimum value:', float(positive_pledges.min()),\n",
    "      '\\nMaximum value:', float(positive_pledges.max()))\n",
    "print('_'*30)\n",
    "\n",
    "print('\\nNormalized data\\nPreview:\\n', normalized_pledges.head())\n",
    "print('Minimum value:', float(normalized_pledges.min()),\n",
    "      '\\nMaximum value:', float(normalized_pledges.max()))"
   ]
  },
  {
   "cell_type": "markdown",
   "metadata": {},
   "source": [
    "The values have changed significantly with normalization!\n",
    "\n",
    "In the next code cell, you'll take a look at the distribution of the normalized data, where it should now resemble a normal distribution."
   ]
  },
  {
   "cell_type": "code",
   "execution_count": 10,
   "metadata": {
    "execution": {
     "iopub.execute_input": "2022-03-29T14:29:09.002087Z",
     "iopub.status.busy": "2022-03-29T14:29:09.001831Z",
     "iopub.status.idle": "2022-03-29T14:29:11.051695Z",
     "shell.execute_reply": "2022-03-29T14:29:11.050935Z",
     "shell.execute_reply.started": "2022-03-29T14:29:09.002061Z"
    }
   },
   "outputs": [],
   "source": [
    "# plot normalized data\n",
    "ax = sns.histplot(normalized_pledges, kde=True)\n",
    "ax.set_title(\"Normalized data\")\n",
    "plt.show()"
   ]
  },
  {
   "cell_type": "markdown",
   "metadata": {},
   "source": [
    "We used the \"usd_pledged_real\" column. Follow the same process to normalize the \"pledged\" column. "
   ]
  },
  {
   "cell_type": "code",
   "execution_count": 11,
   "metadata": {
    "execution": {
     "iopub.execute_input": "2022-03-29T14:29:49.127367Z",
     "iopub.status.busy": "2022-03-29T14:29:49.127073Z",
     "iopub.status.idle": "2022-03-29T14:29:49.455244Z",
     "shell.execute_reply": "2022-03-29T14:29:49.454368Z",
     "shell.execute_reply.started": "2022-03-29T14:29:49.127339Z"
    }
   },
   "outputs": [],
   "source": [
    "# TODO: Your code here!index_of_positive_pledges = kickstarters_2017.usd_pledged_real > 0\n",
    "\n",
    "# get only positive pledges (using their indexes)\n",
    "positive_pledges = kickstarters_2017.pledged.loc[index_of_positive_pledges]\n",
    "\n",
    "# normalize the pledges (w/ Box-Cox)\n",
    "normalized_pledges = pd.Series(stats.boxcox(positive_pledges)[0], \n",
    "                               name='pledged', index=positive_pledges.index)\n",
    "\n",
    "print('Original data\\nPreview:\\n', positive_pledges.head())\n",
    "print('Minimum value:', float(positive_pledges.min()),\n",
    "      '\\nMaximum value:', float(positive_pledges.max()))\n",
    "print('_'*30)\n",
    "\n",
    "print('\\nNormalized data\\nPreview:\\n', normalized_pledges.head())\n",
    "print('Minimum value:', float(normalized_pledges.min()),\n",
    "      '\\nMaximum value:', float(normalized_pledges.max()))\n"
   ]
  },
  {
   "cell_type": "markdown",
   "metadata": {},
   "source": [
    "How does the normalized \"usd_pledged_real\" column look different from when we normalized the \"pledged\" column?  Or, do they look mostly the same?\n",
    "\n",
    "Once you have an answer, run the code cell below."
   ]
  },
  {
   "cell_type": "code",
   "execution_count": 12,
   "metadata": {
    "execution": {
     "iopub.execute_input": "2022-03-29T14:29:56.693644Z",
     "iopub.status.busy": "2022-03-29T14:29:56.692746Z",
     "iopub.status.idle": "2022-03-29T14:29:56.704451Z",
     "shell.execute_reply": "2022-03-29T14:29:56.703635Z",
     "shell.execute_reply.started": "2022-03-29T14:29:56.693603Z"
    }
   },
   "outputs": [],
   "source": [
    "# Check your answer (Run this code cell to receive credit!)\n",
    "q2.check()"
   ]
  },
  {
   "cell_type": "code",
   "execution_count": null,
   "metadata": {},
   "outputs": [],
   "source": [
    "# Line below will give you a hint\n",
    "#q2.hint()"
   ]
  },
  {
   "cell_type": "markdown",
   "metadata": {},
   "source": [
    "# (Optional) More practice\n",
    "\n",
    "Try finding a new dataset and pretend you're preparing to perform a [regression analysis](https://www.kaggle.com/rtatman/the-5-day-regression-challenge). \n",
    "\n",
    "[These datasets are a good start!](https://www.kaggle.com/rtatman/datasets-for-regression-analysis)\n",
    "\n",
    "Pick three or four variables and decide if you need to normalize or scale any of them and, if you think you should, practice applying the correct technique.\n",
    "\n",
    "# Keep going\n",
    "\n",
    "In the next lesson, learn how to [**parse dates**](https://www.kaggle.com/alexisbcook/parsing-dates) in a dataset."
   ]
  },
  {
   "cell_type": "markdown",
   "metadata": {},
   "source": [
    "---\n",
    "\n",
    "\n",
    "\n",
    "\n",
    "*Have questions or comments? Visit the [course discussion forum](https://www.kaggle.com/learn/data-cleaning/discussion) to chat with other learners.*"
   ]
  }
 ],
 "metadata": {
  "kernelspec": {
   "display_name": "Python 3 (ipykernel)",
   "language": "python",
   "name": "python3"
  },
  "language_info": {
   "codemirror_mode": {
    "name": "ipython",
    "version": 3
   },
   "file_extension": ".py",
   "mimetype": "text/x-python",
   "name": "python",
   "nbconvert_exporter": "python",
   "pygments_lexer": "ipython3",
   "version": "3.8.5"
  }
 },
 "nbformat": 4,
 "nbformat_minor": 4
}
