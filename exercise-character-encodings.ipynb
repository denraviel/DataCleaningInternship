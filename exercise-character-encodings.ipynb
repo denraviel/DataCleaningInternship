{
 "cells": [
  {
   "cell_type": "markdown",
   "metadata": {},
   "source": [
    "**This notebook is an exercise in the [Data Cleaning](https://www.kaggle.com/learn/data-cleaning) course.  You can reference the tutorial at [this link](https://www.kaggle.com/alexisbcook/character-encodings).**\n",
    "\n",
    "---\n"
   ]
  },
  {
   "cell_type": "markdown",
   "metadata": {},
   "source": [
    "In this exercise, you'll apply what you learned in the **Character encodings** tutorial.\n",
    "\n",
    "# Setup\n",
    "\n",
    "The questions below will give you feedback on your work. Run the following cell to set up the feedback system."
   ]
  },
  {
   "cell_type": "code",
   "execution_count": 1,
   "metadata": {
    "execution": {
     "iopub.execute_input": "2022-03-30T14:20:00.568060Z",
     "iopub.status.busy": "2022-03-30T14:20:00.567548Z",
     "iopub.status.idle": "2022-03-30T14:20:00.648598Z",
     "shell.execute_reply": "2022-03-30T14:20:00.647798Z",
     "shell.execute_reply.started": "2022-03-30T14:20:00.567963Z"
    }
   },
   "outputs": [],
   "source": [
    "from learntools.core import binder\n",
    "binder.bind(globals())\n",
    "from learntools.data_cleaning.ex4 import *\n",
    "print(\"Setup Complete\")"
   ]
  },
  {
   "cell_type": "markdown",
   "metadata": {},
   "source": [
    "# Get our environment set up\n",
    "\n",
    "The first thing we'll need to do is load in the libraries we'll be using."
   ]
  },
  {
   "cell_type": "code",
   "execution_count": 2,
   "metadata": {
    "execution": {
     "iopub.execute_input": "2022-03-30T14:20:14.418119Z",
     "iopub.status.busy": "2022-03-30T14:20:14.417834Z",
     "iopub.status.idle": "2022-03-30T14:20:14.423002Z",
     "shell.execute_reply": "2022-03-30T14:20:14.422142Z",
     "shell.execute_reply.started": "2022-03-30T14:20:14.418086Z"
    }
   },
   "outputs": [],
   "source": [
    "# modules we'll use\n",
    "import pandas as pd\n",
    "import numpy as np\n",
    "\n",
    "# helpful character encoding module\n",
    "import chardet\n",
    "\n",
    "# set seed for reproducibility\n",
    "np.random.seed(0)"
   ]
  },
  {
   "cell_type": "markdown",
   "metadata": {},
   "source": [
    "# 1) What are encodings?\n",
    "\n",
    "You're working with a dataset composed of bytes.  Run the code cell below to print a sample entry."
   ]
  },
  {
   "cell_type": "code",
   "execution_count": 3,
   "metadata": {
    "execution": {
     "iopub.execute_input": "2022-03-30T14:20:21.588387Z",
     "iopub.status.busy": "2022-03-30T14:20:21.587692Z",
     "iopub.status.idle": "2022-03-30T14:20:21.593151Z",
     "shell.execute_reply": "2022-03-30T14:20:21.592324Z",
     "shell.execute_reply.started": "2022-03-30T14:20:21.588351Z"
    }
   },
   "outputs": [
    {
     "name": "stdout",
     "output_type": "stream",
     "text": [
      "b'\\xa7A\\xa6n'\n",
      "data type: <class 'bytes'>\n"
     ]
    }
   ],
   "source": [
    "sample_entry = b'\\xa7A\\xa6n'\n",
    "print(sample_entry)\n",
    "print('data type:', type(sample_entry))"
   ]
  },
  {
   "cell_type": "markdown",
   "metadata": {},
   "source": [
    "You notice that it doesn't use the standard UTF-8 encoding. \n",
    "\n",
    "Use the next code cell to create a variable `new_entry` that changes the encoding from `\"big5-tw\"` to `\"utf-8\"`.  `new_entry` should have the bytes datatype."
   ]
  },
  {
   "cell_type": "code",
   "execution_count": 5,
   "metadata": {
    "execution": {
     "iopub.execute_input": "2022-03-30T14:25:26.287282Z",
     "iopub.status.busy": "2022-03-30T14:25:26.287021Z",
     "iopub.status.idle": "2022-03-30T14:25:26.294538Z",
     "shell.execute_reply": "2022-03-30T14:25:26.293930Z",
     "shell.execute_reply.started": "2022-03-30T14:25:26.287245Z"
    }
   },
   "outputs": [],
   "source": [
    "\n",
    "\n",
    "entry = sample_entry.decode(\"big5-tw\")\n",
    "new_entry = entry.encode()\n",
    "# Check your answer\n",
    "# q1.check()"
   ]
  },
  {
   "cell_type": "code",
   "execution_count": 9,
   "metadata": {
    "execution": {
     "iopub.execute_input": "2022-03-30T14:25:31.709617Z",
     "iopub.status.busy": "2022-03-30T14:25:31.709297Z",
     "iopub.status.idle": "2022-03-30T14:25:31.713821Z",
     "shell.execute_reply": "2022-03-30T14:25:31.712743Z",
     "shell.execute_reply.started": "2022-03-30T14:25:31.709581Z"
    }
   },
   "outputs": [],
   "source": [
    "# Lines below will give you a hint or solution code\n",
    "#q1.hint()\n",
    "# q1.solution()"
   ]
  },
  {
   "cell_type": "markdown",
   "metadata": {},
   "source": [
    "# 2) Reading in files with encoding problems\n",
    "\n",
    "Use the code cell below to read in this file at path `\"../input/fatal-police-shootings-in-the-us/PoliceKillingsUS.csv\"`.  \n",
    "\n",
    "Figure out what the correct encoding should be and read in the file to a DataFrame `police_killings`."
   ]
  },
  {
   "cell_type": "code",
   "execution_count": 6,
   "metadata": {
    "execution": {
     "iopub.execute_input": "2022-03-30T14:32:09.674018Z",
     "iopub.status.busy": "2022-03-30T14:32:09.673483Z",
     "iopub.status.idle": "2022-03-30T14:32:09.698351Z",
     "shell.execute_reply": "2022-03-30T14:32:09.697792Z",
     "shell.execute_reply.started": "2022-03-30T14:32:09.673983Z"
    }
   },
   "outputs": [],
   "source": [
    "# TODO: Load in the DataFrame correctly.\n",
    "police_killings = pd.read_csv(\"PoliceKillingsUS.csv\", encoding='Windows-1252')\n",
    "\n",
    "\n",
    "\n",
    "# Check your answer\n",
    "# q2.check()"
   ]
  },
  {
   "cell_type": "markdown",
   "metadata": {},
   "source": [
    "Feel free to use any additional code cells for supplemental work.  To get credit for finishing this question, you'll need to run `q2.check()` and get a result of **Correct**."
   ]
  },
  {
   "cell_type": "code",
   "execution_count": 7,
   "metadata": {
    "execution": {
     "iopub.execute_input": "2022-03-30T14:32:40.163627Z",
     "iopub.status.busy": "2022-03-30T14:32:40.162994Z",
     "iopub.status.idle": "2022-03-30T14:32:40.167588Z",
     "shell.execute_reply": "2022-03-30T14:32:40.166917Z",
     "shell.execute_reply.started": "2022-03-30T14:32:40.163592Z"
    }
   },
   "outputs": [
    {
     "ename": "SyntaxError",
     "evalue": "unexpected EOF while parsing (Temp/ipykernel_6392/1456962587.py, line 1)",
     "output_type": "error",
     "traceback": [
      "\u001b[1;36m  File \u001b[1;32m\"C:\\Users\\denra\\AppData\\Local\\Temp/ipykernel_6392/1456962587.py\"\u001b[1;36m, line \u001b[1;32m1\u001b[0m\n\u001b[1;33m    kickstarter_2016 = pd.read_csv(\"../input/kickstarter-projects/ks-projects-201612.csv\", encoding='Windows-1252'# (Optional) Use this code cell for any additional work.\u001b[0m\n\u001b[1;37m                                                                                                                                                                          ^\u001b[0m\n\u001b[1;31mSyntaxError\u001b[0m\u001b[1;31m:\u001b[0m unexpected EOF while parsing\n"
     ]
    }
   ],
   "source": [
    "kickstarter_2016 = pd.read_csv(\"../input/kickstarter-projects/ks-projects-201612.csv\", encoding='Windows-1252'# (Optional) Use this code cell for any additional work."
   ]
  },
  {
   "cell_type": "code",
   "execution_count": 19,
   "metadata": {
    "execution": {
     "iopub.execute_input": "2022-03-30T14:32:47.947007Z",
     "iopub.status.busy": "2022-03-30T14:32:47.946487Z",
     "iopub.status.idle": "2022-03-30T14:32:47.950343Z",
     "shell.execute_reply": "2022-03-30T14:32:47.949515Z",
     "shell.execute_reply.started": "2022-03-30T14:32:47.946973Z"
    }
   },
   "outputs": [],
   "source": [
    "# Lines below will give you a hint or solution code\n",
    "#q2.hint()\n",
    "# q2.solution()"
   ]
  },
  {
   "cell_type": "markdown",
   "metadata": {},
   "source": [
    "# 3) Saving your files with UTF-8 encoding\n",
    "\n",
    "Save a version of the police killings dataset to CSV with UTF-8 encoding.  Your answer will be marked correct after saving this file.  \n",
    "\n",
    "Note: When using the `to_csv()` method, supply only the name of the file (e.g., `\"my_file.csv\"`).  This saves the file at the filepath `\"/kaggle/working/my_file.csv\"`."
   ]
  },
  {
   "cell_type": "code",
   "execution_count": 8,
   "metadata": {
    "execution": {
     "iopub.execute_input": "2022-03-30T14:33:23.171701Z",
     "iopub.status.busy": "2022-03-30T14:33:23.171071Z",
     "iopub.status.idle": "2022-03-30T14:33:23.204076Z",
     "shell.execute_reply": "2022-03-30T14:33:23.203245Z",
     "shell.execute_reply.started": "2022-03-30T14:33:23.171653Z"
    }
   },
   "outputs": [],
   "source": [
    "# TODO: Save the police killings dataset to CSV\n",
    "police_killings.to_csv(\"police_file.csv\")\n",
    "\n",
    "# Check your answer\n",
    "# q3.check()"
   ]
  },
  {
   "cell_type": "code",
   "execution_count": 22,
   "metadata": {
    "execution": {
     "iopub.execute_input": "2022-03-30T14:33:26.572492Z",
     "iopub.status.busy": "2022-03-30T14:33:26.572202Z",
     "iopub.status.idle": "2022-03-30T14:33:26.575805Z",
     "shell.execute_reply": "2022-03-30T14:33:26.574987Z",
     "shell.execute_reply.started": "2022-03-30T14:33:26.572456Z"
    }
   },
   "outputs": [],
   "source": [
    "# Lines below will give you a hint or solution code\n",
    "#q3.hint()\n",
    "# q3.solution()"
   ]
  },
  {
   "cell_type": "markdown",
   "metadata": {},
   "source": [
    "# (Optional) More practice\n",
    "\n",
    "Check out [this dataset of files in different character encodings](https://www.kaggle.com/rtatman/character-encoding-examples). Can you read in all the files with their original encodings and them save them out as UTF-8 files?\n",
    "\n",
    "If you have a file that's in UTF-8 but has just a couple of weird-looking characters in it, you can try out the [ftfy module](https://ftfy.readthedocs.io/en/latest/#) and see if it helps. \n",
    "\n",
    "# Keep going\n",
    "\n",
    "In the final lesson, learn how to [**clean up inconsistent text entries**](https://www.kaggle.com/alexisbcook/inconsistent-data-entry) in your dataset."
   ]
  },
  {
   "cell_type": "markdown",
   "metadata": {},
   "source": [
    "---\n",
    "\n",
    "\n",
    "\n",
    "\n",
    "*Have questions or comments? Visit the [course discussion forum](https://www.kaggle.com/learn/data-cleaning/discussion) to chat with other learners.*"
   ]
  }
 ],
 "metadata": {
  "kernelspec": {
   "display_name": "Python 3 (ipykernel)",
   "language": "python",
   "name": "python3"
  },
  "language_info": {
   "codemirror_mode": {
    "name": "ipython",
    "version": 3
   },
   "file_extension": ".py",
   "mimetype": "text/x-python",
   "name": "python",
   "nbconvert_exporter": "python",
   "pygments_lexer": "ipython3",
   "version": "3.8.5"
  }
 },
 "nbformat": 4,
 "nbformat_minor": 4
}
